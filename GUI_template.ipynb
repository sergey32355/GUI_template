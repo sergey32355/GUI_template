{
 "cells": [
  {
   "cell_type": "code",
   "execution_count": 2,
   "id": "2220f4a8-4d63-48e7-8f94-c718a453e0da",
   "metadata": {},
   "outputs": [],
   "source": [
    "import numpy as np\n",
    "import sys\n",
    "\n",
    "import PySide6\n",
    "from PySide6 import QtUiTools,QtWidgets\n",
    "from PySide6.QtGui import *\n",
    "from PySide6.QtWidgets import QApplication,QMainWindow\n",
    "from PySide6 import QtCore\n",
    "from PyQt5.QtCore import QSettings\n",
    "from PyQt5 import QtGui\n",
    "from PyQt5.QtWidgets import QComboBox, QCheckBox, QLineEdit,QRadioButton, QSpinBox, QSlider, QListWidget, QTabWidget\n",
    "\n",
    "import ui_MainWindow"
   ]
  },
  {
   "cell_type": "code",
   "execution_count": 3,
   "id": "b6d6da28-351a-4752-a86e-60f3fb09ad6f",
   "metadata": {},
   "outputs": [],
   "source": [
    "class MainWindow(QtWidgets.QMainWindow, ui_MainWindow.Ui_MainWindow):\n",
    "    \n",
    "    def __init__(self):  \n",
    "        \n",
    "        super(MainWindow, self).__init__()\n",
    "        self.setupUi(self)\n",
    "        self.init_ui()\n",
    "\n",
    "        #globals\n",
    "        self.GLOBAL_INT=0\n",
    "        self.classifier=None\n",
    "\n",
    "    def init_ui(self):\n",
    "        \n",
    "        #front panel\n",
    "        self.HellowWorldBtn.clicked.connect(self.WriteHellowWorld_click)\n",
    "        self.TrainClassifierBtn.clicked.connect(self.TrainClassifier_click)\n",
    "\n",
    "    def WriteHellowWorld_click(self):\n",
    "        \n",
    "        self.textbox.setText(\"Hellow world\") #setText(\"Hellow world\")\n",
    "        self.GLOBAL_INT=10\n",
    "\n",
    "    def TrainClassifier_click(self):\n",
    "        #train here\n",
    "        path_database=self.lineEdit.text()\n",
    "        #training is here\n",
    "        #XXXXXX self.classifier=ddd.train(path_database)\n",
    "        return self.classifier"
   ]
  },
  {
   "cell_type": "code",
   "execution_count": 4,
   "id": "5c8b42be-5ed4-4080-b509-1ddf761237d8",
   "metadata": {},
   "outputs": [
    {
     "ename": "SystemExit",
     "evalue": "0",
     "output_type": "error",
     "traceback": [
      "An exception has occurred, use %tb to see the full traceback.\n",
      "\u001b[31mSystemExit\u001b[39m\u001b[31m:\u001b[39m 0\n"
     ]
    },
    {
     "name": "stderr",
     "output_type": "stream",
     "text": [
      "C:\\Users\\shse\\.conda\\envs\\env1\\Lib\\site-packages\\IPython\\core\\interactiveshell.py:3675: UserWarning: To exit: use 'exit', 'quit', or Ctrl-D.\n",
      "  warn(\"To exit: use 'exit', 'quit', or Ctrl-D.\", stacklevel=1)\n"
     ]
    }
   ],
   "source": [
    "app = QtWidgets.QApplication(sys.argv)\n",
    "window = MainWindow()\n",
    "window.show()\n",
    "sys.exit(app.exec())"
   ]
  },
  {
   "cell_type": "code",
   "execution_count": null,
   "id": "515b7eec-1f08-454f-ad61-aae879807686",
   "metadata": {},
   "outputs": [],
   "source": []
  }
 ],
 "metadata": {
  "kernelspec": {
   "display_name": "Python 3 (ipykernel)",
   "language": "python",
   "name": "python3"
  },
  "language_info": {
   "codemirror_mode": {
    "name": "ipython",
    "version": 3
   },
   "file_extension": ".py",
   "mimetype": "text/x-python",
   "name": "python",
   "nbconvert_exporter": "python",
   "pygments_lexer": "ipython3",
   "version": "3.12.4"
  }
 },
 "nbformat": 4,
 "nbformat_minor": 5
}
